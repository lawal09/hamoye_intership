{
  "nbformat": 4,
  "nbformat_minor": 0,
  "metadata": {
    "colab": {
      "name": "Lawal Akibu.ipynb",
      "provenance": [],
      "authorship_tag": "ABX9TyNa4yZ0/4sDpPFYHTQuV4Et",
      "include_colab_link": true
    },
    "kernelspec": {
      "name": "python3",
      "display_name": "Python 3"
    }
  },
  "cells": [
    {
      "cell_type": "markdown",
      "metadata": {
        "id": "view-in-github",
        "colab_type": "text"
      },
      "source": [
        "<a href=\"https://colab.research.google.com/github/lawal09/hamoye_intership/blob/master/Lawal_Akibu.ipynb\" target=\"_parent\"><img src=\"https://colab.research.google.com/assets/colab-badge.svg\" alt=\"Open In Colab\"/></a>"
      ]
    },
    {
      "cell_type": "code",
      "metadata": {
        "id": "nUzKQGjRMnVv",
        "colab_type": "code",
        "colab": {}
      },
      "source": [
        "# import libraries\n",
        "import pandas as pd\n",
        "import numpy as np"
      ],
      "execution_count": 1,
      "outputs": []
    },
    {
      "cell_type": "code",
      "metadata": {
        "id": "aTwkJ0cwU3u0",
        "colab_type": "code",
        "colab": {
          "base_uri": "https://localhost:8080/",
          "height": 224
        },
        "outputId": "249b7925-df9c-4e02-f102-03ef486469cd"
      },
      "source": [
        "hamoye_dataset = pd.read_csv('https://raw.githubusercontent.com/WalePhenomenon/climate_change/master/fuel_ferc1.csv')\n",
        "hamoye_dataset.head()"
      ],
      "execution_count": 3,
      "outputs": [
        {
          "output_type": "execute_result",
          "data": {
            "text/html": [
              "<div>\n",
              "<style scoped>\n",
              "    .dataframe tbody tr th:only-of-type {\n",
              "        vertical-align: middle;\n",
              "    }\n",
              "\n",
              "    .dataframe tbody tr th {\n",
              "        vertical-align: top;\n",
              "    }\n",
              "\n",
              "    .dataframe thead th {\n",
              "        text-align: right;\n",
              "    }\n",
              "</style>\n",
              "<table border=\"1\" class=\"dataframe\">\n",
              "  <thead>\n",
              "    <tr style=\"text-align: right;\">\n",
              "      <th></th>\n",
              "      <th>record_id</th>\n",
              "      <th>utility_id_ferc1</th>\n",
              "      <th>report_year</th>\n",
              "      <th>plant_name_ferc1</th>\n",
              "      <th>fuel_type_code_pudl</th>\n",
              "      <th>fuel_unit</th>\n",
              "      <th>fuel_qty_burned</th>\n",
              "      <th>fuel_mmbtu_per_unit</th>\n",
              "      <th>fuel_cost_per_unit_burned</th>\n",
              "      <th>fuel_cost_per_unit_delivered</th>\n",
              "      <th>fuel_cost_per_mmbtu</th>\n",
              "    </tr>\n",
              "  </thead>\n",
              "  <tbody>\n",
              "    <tr>\n",
              "      <th>0</th>\n",
              "      <td>f1_fuel_1994_12_1_0_7</td>\n",
              "      <td>1</td>\n",
              "      <td>1994</td>\n",
              "      <td>rockport</td>\n",
              "      <td>coal</td>\n",
              "      <td>ton</td>\n",
              "      <td>5377489.0</td>\n",
              "      <td>16.590</td>\n",
              "      <td>18.59</td>\n",
              "      <td>18.53</td>\n",
              "      <td>1.121</td>\n",
              "    </tr>\n",
              "    <tr>\n",
              "      <th>1</th>\n",
              "      <td>f1_fuel_1994_12_1_0_10</td>\n",
              "      <td>1</td>\n",
              "      <td>1994</td>\n",
              "      <td>rockport total plant</td>\n",
              "      <td>coal</td>\n",
              "      <td>ton</td>\n",
              "      <td>10486945.0</td>\n",
              "      <td>16.592</td>\n",
              "      <td>18.58</td>\n",
              "      <td>18.53</td>\n",
              "      <td>1.120</td>\n",
              "    </tr>\n",
              "    <tr>\n",
              "      <th>2</th>\n",
              "      <td>f1_fuel_1994_12_2_0_1</td>\n",
              "      <td>2</td>\n",
              "      <td>1994</td>\n",
              "      <td>gorgas</td>\n",
              "      <td>coal</td>\n",
              "      <td>ton</td>\n",
              "      <td>2978683.0</td>\n",
              "      <td>24.130</td>\n",
              "      <td>39.72</td>\n",
              "      <td>38.12</td>\n",
              "      <td>1.650</td>\n",
              "    </tr>\n",
              "    <tr>\n",
              "      <th>3</th>\n",
              "      <td>f1_fuel_1994_12_2_0_7</td>\n",
              "      <td>2</td>\n",
              "      <td>1994</td>\n",
              "      <td>barry</td>\n",
              "      <td>coal</td>\n",
              "      <td>ton</td>\n",
              "      <td>3739484.0</td>\n",
              "      <td>23.950</td>\n",
              "      <td>47.21</td>\n",
              "      <td>45.99</td>\n",
              "      <td>1.970</td>\n",
              "    </tr>\n",
              "    <tr>\n",
              "      <th>4</th>\n",
              "      <td>f1_fuel_1994_12_2_0_10</td>\n",
              "      <td>2</td>\n",
              "      <td>1994</td>\n",
              "      <td>chickasaw</td>\n",
              "      <td>gas</td>\n",
              "      <td>mcf</td>\n",
              "      <td>40533.0</td>\n",
              "      <td>1.000</td>\n",
              "      <td>2.77</td>\n",
              "      <td>2.77</td>\n",
              "      <td>2.570</td>\n",
              "    </tr>\n",
              "  </tbody>\n",
              "</table>\n",
              "</div>"
            ],
            "text/plain": [
              "                record_id  ...  fuel_cost_per_mmbtu\n",
              "0   f1_fuel_1994_12_1_0_7  ...                1.121\n",
              "1  f1_fuel_1994_12_1_0_10  ...                1.120\n",
              "2   f1_fuel_1994_12_2_0_1  ...                1.650\n",
              "3   f1_fuel_1994_12_2_0_7  ...                1.970\n",
              "4  f1_fuel_1994_12_2_0_10  ...                2.570\n",
              "\n",
              "[5 rows x 11 columns]"
            ]
          },
          "metadata": {
            "tags": []
          },
          "execution_count": 3
        }
      ]
    },
    {
      "cell_type": "markdown",
      "metadata": {
        "id": "UjEPH_MUVTjP",
        "colab_type": "text"
      },
      "source": [
        "Solution to Question 1"
      ]
    },
    {
      "cell_type": "code",
      "metadata": {
        "id": "ivLvESS7VodU",
        "colab_type": "code",
        "colab": {
          "base_uri": "https://localhost:8080/",
          "height": 34
        },
        "outputId": "f8fadade-276e-4fc2-d71b-0fb45d146356"
      },
      "source": [
        "A = [1,2,3,4,5,6]\n",
        "B= [13,21,34]\n",
        "A.extend(B)\n",
        "A"
      ],
      "execution_count": 4,
      "outputs": [
        {
          "output_type": "execute_result",
          "data": {
            "text/plain": [
              "[1, 2, 3, 4, 5, 6, 13, 21, 34]"
            ]
          },
          "metadata": {
            "tags": []
          },
          "execution_count": 4
        }
      ]
    },
    {
      "cell_type": "markdown",
      "metadata": {
        "id": "j1ha_X4RV1Ee",
        "colab_type": "text"
      },
      "source": [
        "Solution to Question 2"
      ]
    },
    {
      "cell_type": "code",
      "metadata": {
        "id": "8bPi0f5lV34M",
        "colab_type": "code",
        "colab": {}
      },
      "source": [
        "# creating identity matrix with numpy\n",
        "numpy_identity_matrix=np.eye(3)\n",
        "numpy_identity_matrix=np.identity(3)\n",
        "numpy_identity_matrix=np.matlib.identity(n)"
      ],
      "execution_count": 5,
      "outputs": []
    },
    {
      "cell_type": "markdown",
      "metadata": {
        "id": "dxk69zR8W5pc",
        "colab_type": "text"
      },
      "source": [
        "Solution to Question 3"
      ]
    },
    {
      "cell_type": "code",
      "metadata": {
        "id": "z-3V-daYW8QE",
        "colab_type": "code",
        "colab": {
          "base_uri": "https://localhost:8080/",
          "height": 153
        },
        "outputId": "dcb9274e-ec0d-42c7-f746-bf5709f24e2d"
      },
      "source": [
        "lowest_average_fuelcost_per_unit_burned= hamoye_dataset.groupby('fuel_type_code_pudl')['fuel_cost_per_unit_burned'].mean().sort_values()\n",
        "lowest_average_fuelcost_per_unit_burned"
      ],
      "execution_count": 6,
      "outputs": [
        {
          "output_type": "execute_result",
          "data": {
            "text/plain": [
              "fuel_type_code_pudl\n",
              "gas          13.659397\n",
              "other        18.253856\n",
              "waste        19.518122\n",
              "coal         67.421830\n",
              "oil         168.877086\n",
              "nuclear    4955.157002\n",
              "Name: fuel_cost_per_unit_burned, dtype: float64"
            ]
          },
          "metadata": {
            "tags": []
          },
          "execution_count": 6
        }
      ]
    },
    {
      "cell_type": "markdown",
      "metadata": {
        "id": "d6_hxlimXMRD",
        "colab_type": "text"
      },
      "source": [
        "Solution to Question 4"
      ]
    },
    {
      "cell_type": "code",
      "metadata": {
        "id": "9osf8QZHXPT9",
        "colab_type": "code",
        "colab": {
          "base_uri": "https://localhost:8080/",
          "height": 170
        },
        "outputId": "ee24b39a-ca3d-442c-82f1-da6e30802733"
      },
      "source": [
        "standard_deviation_and_75th_percentile = hamoye_dataset['fuel_mmbtu_per_unit'].describe()\n",
        "standard_deviation_and_75th_percentile"
      ],
      "execution_count": 7,
      "outputs": [
        {
          "output_type": "execute_result",
          "data": {
            "text/plain": [
              "count    29523.000000\n",
              "mean         8.492111\n",
              "std         10.600220\n",
              "min          0.000001\n",
              "25%          1.024000\n",
              "50%          5.762694\n",
              "75%         17.006000\n",
              "max        341.260000\n",
              "Name: fuel_mmbtu_per_unit, dtype: float64"
            ]
          },
          "metadata": {
            "tags": []
          },
          "execution_count": 7
        }
      ]
    },
    {
      "cell_type": "markdown",
      "metadata": {
        "id": "h6DPXD4JXgWt",
        "colab_type": "text"
      },
      "source": [
        "Solution to Question 5"
      ]
    },
    {
      "cell_type": "code",
      "metadata": {
        "id": "AVZJecTrXi5b",
        "colab_type": "code",
        "colab": {
          "base_uri": "https://localhost:8080/",
          "height": 51
        },
        "outputId": "8a7c51b1-b253-4674-e432-2188ec334787"
      },
      "source": [
        "skewness_fuel_quantity_burned = hamoye_dataset['fuel_qty_burned'].skew()\n",
        "kurtosis_fuel_quantity_burned = hamoye_dataset['fuel_qty_burned'].kurtosis()\n",
        "print(skewness_fuel_quantity_burned)\n",
        "print(kurtosis_fuel_quantity_burned)"
      ],
      "execution_count": 8,
      "outputs": [
        {
          "output_type": "stream",
          "text": [
            "15.851495469109503\n",
            "651.3694501337732\n"
          ],
          "name": "stdout"
        }
      ]
    },
    {
      "cell_type": "markdown",
      "metadata": {
        "id": "WFvzDgA6Xtic",
        "colab_type": "text"
      },
      "source": [
        "Solution to Question 6"
      ]
    },
    {
      "cell_type": "code",
      "metadata": {
        "id": "WqYltaXZXvwh",
        "colab_type": "code",
        "colab": {
          "base_uri": "https://localhost:8080/",
          "height": 221
        },
        "outputId": "1ab522c0-f2c7-40f1-883a-a9a26000386e"
      },
      "source": [
        "total_null_rows = hamoye_dataset.isnull().sum()\n",
        "percentage_of_missing_rows=hamoye_dataset.isnull().sum()/len(hamoye_dataset) *100\n",
        "percentage_of_missing_rows\n",
        "# missing rows seems to be more with only fuel_unit showing significant value, hence my response in the quiz"
      ],
      "execution_count": 11,
      "outputs": [
        {
          "output_type": "execute_result",
          "data": {
            "text/plain": [
              "record_id                       0.000000\n",
              "utility_id_ferc1                0.000000\n",
              "report_year                     0.000000\n",
              "plant_name_ferc1                0.000000\n",
              "fuel_type_code_pudl             0.000000\n",
              "fuel_unit                       0.609694\n",
              "fuel_qty_burned                 0.000000\n",
              "fuel_mmbtu_per_unit             0.000000\n",
              "fuel_cost_per_unit_burned       0.000000\n",
              "fuel_cost_per_unit_delivered    0.000000\n",
              "fuel_cost_per_mmbtu             0.000000\n",
              "dtype: float64"
            ]
          },
          "metadata": {
            "tags": []
          },
          "execution_count": 11
        }
      ]
    },
    {
      "cell_type": "markdown",
      "metadata": {
        "id": "EkP8wOz7YW6S",
        "colab_type": "text"
      },
      "source": [
        "Solution to Question 7"
      ]
    },
    {
      "cell_type": "code",
      "metadata": {
        "id": "CMJntEleYddO",
        "colab_type": "code",
        "colab": {
          "base_uri": "https://localhost:8080/",
          "height": 102
        },
        "outputId": "cdc34867-c2d2-4a82-da81-c1a4cc5a7941"
      },
      "source": [
        "hamoye_dataset['fuel_unit'].describe()\n",
        "# the feature column is data type is object and allows mode computation"
      ],
      "execution_count": 10,
      "outputs": [
        {
          "output_type": "execute_result",
          "data": {
            "text/plain": [
              "count     29343\n",
              "unique        9\n",
              "top         mcf\n",
              "freq      11354\n",
              "Name: fuel_unit, dtype: object"
            ]
          },
          "metadata": {
            "tags": []
          },
          "execution_count": 10
        }
      ]
    },
    {
      "cell_type": "markdown",
      "metadata": {
        "id": "aGI5HVFSapNi",
        "colab_type": "text"
      },
      "source": [
        "Solution to Question 8"
      ]
    },
    {
      "cell_type": "code",
      "metadata": {
        "id": "8LZORTS6arrt",
        "colab_type": "code",
        "colab": {
          "base_uri": "https://localhost:8080/",
          "height": 153
        },
        "outputId": "d12dcf4a-4a48-41db-a4eb-430723db45cb"
      },
      "source": [
        "abs(hamoye_dataset.corr()['fuel_cost_per_unit_burned']).sort_values(ascending=False)\n",
        "# the feature that has the second and third correlation are fuel_mmbtu_per_unit and fuel_cost_per_unit_delivered in descending order"
      ],
      "execution_count": 20,
      "outputs": [
        {
          "output_type": "execute_result",
          "data": {
            "text/plain": [
              "fuel_cost_per_unit_burned       1.000000\n",
              "utility_id_ferc1                0.037863\n",
              "fuel_qty_burned                 0.018535\n",
              "report_year                     0.013599\n",
              "fuel_cost_per_unit_delivered    0.011007\n",
              "fuel_mmbtu_per_unit             0.010034\n",
              "fuel_cost_per_mmbtu             0.000437\n",
              "Name: fuel_cost_per_unit_burned, dtype: float64"
            ]
          },
          "metadata": {
            "tags": []
          },
          "execution_count": 20
        }
      ]
    },
    {
      "cell_type": "markdown",
      "metadata": {
        "id": "lDqoarm7bZVU",
        "colab_type": "text"
      },
      "source": [
        "Solution to Question 9"
      ]
    },
    {
      "cell_type": "code",
      "metadata": {
        "id": "RxVoGeYGbbgX",
        "colab_type": "code",
        "colab": {
          "base_uri": "https://localhost:8080/",
          "height": 34
        },
        "outputId": "2d1eb75b-3480-4b2f-82a0-24b9f613f845"
      },
      "source": [
        "fuel_type_coal_1998 = hamoye_dataset[(hamoye_dataset['report_year']==1998)&(hamoye_dataset['fuel_type_code_pudl']=='coal')]\n",
        "\n",
        "fuel_type_coal_1994 = hamoye_dataset[(hamoye_dataset['report_year']==1994)&(hamoye_dataset['fuel_type_code_pudl']=='coal')]\n",
        "\n",
        "(fuel_type_coal_1998['fuel_cost_per_unit_burned'].sum() - fuel_type_coal_1994['fuel_cost_per_unit_burned'].sum())/fuel_type_coal_1994['fuel_cost_per_unit_burned'].sum() * 100\n",
        "\n",
        "# the percentage change in the fuel_cost_per_unit_burned in 1998 compared to 1994 is approximated -21.% from results below"
      ],
      "execution_count": 14,
      "outputs": [
        {
          "output_type": "execute_result",
          "data": {
            "text/plain": [
              "-20.56765451826053"
            ]
          },
          "metadata": {
            "tags": []
          },
          "execution_count": 14
        }
      ]
    },
    {
      "cell_type": "markdown",
      "metadata": {
        "id": "kSWqtuH-bzHi",
        "colab_type": "text"
      },
      "source": [
        "Solution to Question 10"
      ]
    },
    {
      "cell_type": "code",
      "metadata": {
        "id": "rAVovJK8b1vn",
        "colab_type": "code",
        "colab": {
          "base_uri": "https://localhost:8080/",
          "height": 476
        },
        "outputId": "8bd2d74d-eeed-4ac1-c020-eca6489793f5"
      },
      "source": [
        "hamoye_dataset.groupby('report_year')['fuel_cost_per_unit_delivered'].mean().sort_values(ascending=True)\n",
        "# 1997 has the highest_average_fuel_cost_per_unit_delivered"
      ],
      "execution_count": 17,
      "outputs": [
        {
          "output_type": "execute_result",
          "data": {
            "text/plain": [
              "report_year\n",
              "1999       25.551627\n",
              "1995       32.735269\n",
              "2006       38.657484\n",
              "2005       41.438184\n",
              "2007       43.325023\n",
              "2017       46.196861\n",
              "2002       47.594361\n",
              "2003       55.663493\n",
              "2008       58.588197\n",
              "2011       59.774667\n",
              "2001       60.050396\n",
              "2012       60.994502\n",
              "1994       63.636060\n",
              "2010       91.862105\n",
              "2016      103.901761\n",
              "2004      139.524275\n",
              "2013      172.307591\n",
              "2014      192.737183\n",
              "1998      287.154420\n",
              "2015      326.535511\n",
              "2018      499.269966\n",
              "2009      652.694163\n",
              "2000      985.362877\n",
              "1996     9196.705948\n",
              "1997    11140.197239\n",
              "Name: fuel_cost_per_unit_delivered, dtype: float64"
            ]
          },
          "metadata": {
            "tags": []
          },
          "execution_count": 17
        }
      ]
    }
  ]
}